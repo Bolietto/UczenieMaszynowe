{
 "cells": [
  {
   "cell_type": "code",
   "execution_count": null,
   "metadata": {},
   "outputs": [],
   "source": [
    "from sklearn.svm import SVC\n",
    "\n",
    "#Zaimplementowane metody\n",
    "from StratifiedBagging import StratifiedBagging\n",
    "from implementedBoosting import implementedBoosting\n",
    "from RandomSubspace import RandomSubspace\n",
    "from RandomPatches import RandomPatches\n",
    "\n",
    "import numpy as np\n",
    "from sklearn.model_selection import train_test_split\n",
    "from sklearn.model_selection import RepeatedStratifiedKFold\n",
    "from sklearn.metrics import accuracy_score\n",
    "from sklearn.base import clone\n"
   ]
  },
  {
   "cell_type": "code",
   "execution_count": null,
   "metadata": {},
   "outputs": [],
   "source": [
    " clfs = {\n",
    "     'SVC' : SVC(probability=True, random_state=42),\n",
    "     'sBag': StratifiedBagging(),    \n",
    "     'BST': implementedBoosting(base_estimator = SVC(probability=True, random_state=42), n_estimators = 10),\n",
    "     'RSP' : RandomSubspace(base_estimator = SVC(probability=True, random_state=42), n_estimators = 10, random_state=42),\n",
    "     'RPT' : RandomPatches(),\n",
    " }"
   ]
  },
  {
   "cell_type": "code",
   "execution_count": null,
   "metadata": {},
   "outputs": [],
   "source": [
    "datasets = ['australian', 'wisconsin', 'breastcan', 'cryotherapy', 'diabetes',\n",
    "           'heart', 'ionosphere', 'liver', 'monkthree', 'sonar',\n",
    "           'bupa', 'monk-2', 'heart-failure', 'wine-2', 'wdbc',\n",
    "           'banknote', 'twonorm', 'Heart-Disease', 'pima', 'cardiovascular',]"
   ]
  },
  {
   "cell_type": "code",
   "execution_count": null,
   "metadata": {},
   "outputs": [],
   "source": [
    "n_datasets = len(datasets)\n",
    "n_splits = 5\n",
    "n_repeats = 2\n",
    "rskf = RepeatedStratifiedKFold(\n",
    "    n_splits=n_splits, n_repeats=n_repeats, random_state=42)\n",
    "\n",
    "scores = np.zeros((len(clfs), n_datasets, n_splits * n_repeats))"
   ]
  },
  {
   "cell_type": "code",
   "execution_count": null,
   "metadata": {},
   "outputs": [],
   "source": [
    "for data_id, dataset in enumerate(datasets):\n",
    "    dataset = np.genfromtxt(\"datasets/%s.csv\" % (dataset), delimiter=\",\")\n",
    "    X = dataset[:, :-1]\n",
    "    y = dataset[:, -1].astype(int)\n",
    "\n",
    "    for fold_id, (train, test) in enumerate(rskf.split(X, y)):\n",
    "        for clf_id, clf_name in enumerate(clfs):\n",
    "            clf = clone(clfs[clf_name])\n",
    "            clf.fit(X[train], y[train])\n",
    "            y_pred = clf.predict(X[test])\n",
    "            scores[clf_id, data_id, fold_id] = accuracy_score(y[test], y_pred)\n",
    "\n",
    "np.save('results', scores)"
   ]
  },
  {
   "cell_type": "code",
   "execution_count": null,
   "metadata": {},
   "outputs": [],
   "source": [
    "mean_scores = np.mean(scores, axis=2).T\n",
    "print(\"\\nMean scores:\\n\", mean_scores)\n",
    "np.save('results', scores)"
   ]
  }
 ],
 "metadata": {
  "kernelspec": {
   "display_name": "Python 3",
   "language": "python",
   "name": "python3"
  },
  "language_info": {
   "codemirror_mode": {
    "name": "ipython",
    "version": 3
   },
   "file_extension": ".py",
   "mimetype": "text/x-python",
   "name": "python",
   "nbconvert_exporter": "python",
   "pygments_lexer": "ipython3",
   "version": "3.7.6"
  }
 },
 "nbformat": 4,
 "nbformat_minor": 4
}
