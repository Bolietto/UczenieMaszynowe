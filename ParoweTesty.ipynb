{
 "cells": [
  {
   "cell_type": "code",
   "execution_count": 2,
   "metadata": {},
   "outputs": [],
   "source": [
    "import numpy as np\n",
    "\n",
    "dataset = 'datasets/australian'\n",
    "dataset = np.genfromtxt(\"%s.csv\" % (dataset), delimiter=\",\")\n",
    "X = dataset[:, :-1]\n",
    "y = dataset[:, -1].astype(int)"
   ]
  },
  {
   "cell_type": "code",
   "execution_count": null,
   "metadata": {},
   "outputs": [],
   "source": [
    "from sklearn.svm import SVC\n",
    "\n",
    "#Zaimplementowane metody\n",
    "from StratifiedBagging import StratifiedBagging\n",
    "from implementedBoosting import implementedBoosting\n",
    "from RandomSubspace import RandomSubspace\n",
    "from RandomPatches import RandomPatches\n",
    "\n",
    "import numpy as np\n",
    "from sklearn.model_selection import train_test_split\n",
    "from sklearn.model_selection import RepeatedStratifiedKFold\n",
    "from sklearn.metrics import accuracy_score\n",
    "from sklearn.base import clone\n",
    "\n",
    "\n",
    " clfs = {\n",
    "     'SVC' : SVC(probability=True, random_state=42),\n",
    "     'sBag': StratifiedBagging(),    \n",
    "     'BST': implementedBoosting(base_estimator = SVC(probability=True, random_state=42), n_estimators = 10),\n",
    "     'RSP' : RandomSubspace(base_estimator = SVC(probability=True, random_state=42), n_estimators = 10, random_state=42),\n",
    "     'RPT' : RandomPatches(),\n",
    " }"
   ]
  },
  {
   "cell_type": "code",
   "execution_count": null,
   "metadata": {},
   "outputs": [],
   "source": [
    "n_splits = 5\n",
    "n_repeats = 2\n",
    "rskf = RepeatedStratifiedKFold(\n",
    "    n_splits=n_splits, n_repeats=n_repeats, random_state=42)\n",
    "scores = np.zeros((len(clfs), n_splits * n_repeats))\n",
    "\n",
    "for fold_id, (train, test) in enumerate(rskf.split(X, y)):\n",
    "    for clf_id, clf_name in enumerate(clfs):\n",
    "        clf = clone(clfs[clf_name])\n",
    "        clf.fit(X[train], y[train])\n",
    "        y_pred = clf.predict(X[test])\n",
    "        scores[clf_id, fold_id] = accuracy_score(y[test], y_pred)"
   ]
  },
  {
   "cell_type": "code",
   "execution_count": null,
   "metadata": {},
   "outputs": [],
   "source": [
    "mean = np.mean(scores, axis=1)\n",
    "std = np.std(scores, axis=1)\n",
    "\n",
    "for clf_id, clf_name in enumerate(clfs):\n",
    "    print(\"%s: %.3f (%.2f)\" % (clf_name, mean[clf_id], std[clf_id]))"
   ]
  },
  {
   "cell_type": "code",
   "execution_count": null,
   "metadata": {},
   "outputs": [],
   "source": [
    "np.save('results_student', scores)"
   ]
  }
 ],
 "metadata": {
  "kernelspec": {
   "display_name": "Python 3",
   "language": "python",
   "name": "python3"
  },
  "language_info": {
   "codemirror_mode": {
    "name": "ipython",
    "version": 3
   },
   "file_extension": ".py",
   "mimetype": "text/x-python",
   "name": "python",
   "nbconvert_exporter": "python",
   "pygments_lexer": "ipython3",
   "version": "3.7.6"
  }
 },
 "nbformat": 4,
 "nbformat_minor": 4
}
