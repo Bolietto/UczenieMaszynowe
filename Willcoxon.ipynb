{
 "cells": [
  {
   "cell_type": "code",
   "execution_count": null,
   "metadata": {},
   "outputs": [],
   "source": [
    "import numpy as np\n",
    "\n",
    "scores = np.load('results_f1.npy')\n",
    "print(\"\\nScores:\\n\", scores.shape)\n"
   ]
  },
  {
   "cell_type": "code",
   "execution_count": null,
   "metadata": {},
   "outputs": [],
   "source": [
    "mean_scores = np.mean(scores, axis=2).T\n",
    "print(\"\\nMean scores:\\n\", mean_scores)"
   ]
  },
  {
   "cell_type": "code",
   "execution_count": null,
   "metadata": {},
   "outputs": [],
   "source": [
    "from sklearn.svm import SVC\n",
    "#Zaimplementowane metody\n",
    "from StratifiedBagging import StratifiedBagging\n",
    "from implementedBoosting import implementedBoosting\n",
    "from RandomSubspace import RandomSubspace\n",
    "from RandomPatches import RandomPatches\n",
    "\n",
    " clfs = {\n",
    "     'SVC' : SVC(),\n",
    "     'sBag': StratifiedBagging(),    \n",
    "     'BST': implementedBoosting(),\n",
    "     'RSP' : RandomSubspace(),\n",
    "     'RPT' : RandomPatches(),\n",
    " }"
   ]
  },
  {
   "cell_type": "code",
   "execution_count": null,
   "metadata": {},
   "outputs": [],
   "source": [
    "from scipy.stats import rankdata\n",
    "ranks = []\n",
    "for ms in mean_scores:\n",
    "    ranks.append(rankdata(ms).tolist())\n",
    "ranks = np.array(ranks)\n",
    "print(\"\\nRanks:\\n\", ranks)"
   ]
  },
  {
   "cell_type": "code",
   "execution_count": null,
   "metadata": {},
   "outputs": [],
   "source": [
    "mean_ranks = np.mean(ranks, axis=0)\n",
    "print(\"\\nMean ranks:\\n\", mean_ranks)"
   ]
  },
  {
   "cell_type": "code",
   "execution_count": null,
   "metadata": {},
   "outputs": [],
   "source": [
    "from scipy.stats import ranksums\n",
    "\n",
    "alfa = .05\n",
    "w_statistic = np.zeros((len(clfs), len(clfs)))\n",
    "p_value = np.zeros((len(clfs), len(clfs)))\n",
    "\n",
    "for i in range(len(clfs)):\n",
    "    for j in range(len(clfs)):\n",
    "        w_statistic[i, j], p_value[i, j] = ranksums(ranks.T[i], ranks.T[j])"
   ]
  },
  {
   "cell_type": "code",
   "execution_count": null,
   "metadata": {},
   "outputs": [],
   "source": [
    "from tabulate import tabulate\n",
    "\n",
    "headers = list(clfs.keys())\n",
    "names_column = np.expand_dims(np.array(list(clfs.keys())), axis=1)\n",
    "w_statistic_table = np.concatenate((names_column, w_statistic), axis=1)\n",
    "w_statistic_table = tabulate(w_statistic_table, headers, floatfmt=\".2f\")\n",
    "p_value_table = np.concatenate((names_column, p_value), axis=1)\n",
    "p_value_table = tabulate(p_value_table, headers, floatfmt=\".2f\")\n",
    "print(\"\\nw-statistic:\\n\", w_statistic_table, \"\\n\\np-value:\\n\", p_value_table)"
   ]
  },
  {
   "cell_type": "code",
   "execution_count": null,
   "metadata": {},
   "outputs": [],
   "source": [
    "advantage = np.zeros((len(clfs), len(clfs)))\n",
    "advantage[w_statistic > 0] = 1\n",
    "advantage_table = tabulate(np.concatenate(\n",
    "    (names_column, advantage), axis=1), headers)\n",
    "print(\"\\nAdvantage:\\n\", advantage_table)"
   ]
  },
  {
   "cell_type": "code",
   "execution_count": null,
   "metadata": {},
   "outputs": [],
   "source": [
    "significance = np.zeros((len(clfs), len(clfs)))\n",
    "significance[p_value <= alfa] = 1\n",
    "significance_table = tabulate(np.concatenate(\n",
    "    (names_column, significance), axis=1), headers)\n",
    "print(\"\\nStatistical significance (alpha = 0.05):\\n\", significance_table)"
   ]
  },
  {
   "cell_type": "code",
   "execution_count": null,
   "metadata": {},
   "outputs": [],
   "source": [
    "stat_better = significance * advantage\n",
    "stat_better_table = tabulate(np.concatenate(\n",
    "    (names_column, stat_better), axis=1), headers)\n",
    "print(\"Statistically significantly better:\\n\", stat_better_table)"
   ]
  }
 ],
 "metadata": {
  "kernelspec": {
   "display_name": "Python 3",
   "language": "python",
   "name": "python3"
  },
  "language_info": {
   "codemirror_mode": {
    "name": "ipython",
    "version": 3
   },
   "file_extension": ".py",
   "mimetype": "text/x-python",
   "name": "python",
   "nbconvert_exporter": "python",
   "pygments_lexer": "ipython3",
   "version": "3.7.6"
  }
 },
 "nbformat": 4,
 "nbformat_minor": 4
}
